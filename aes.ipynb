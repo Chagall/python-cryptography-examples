{
 "metadata": {
  "language_info": {
   "codemirror_mode": {
    "name": "ipython",
    "version": 3
   },
   "file_extension": ".py",
   "mimetype": "text/x-python",
   "name": "python",
   "nbconvert_exporter": "python",
   "pygments_lexer": "ipython3",
   "version": "3.8.2"
  },
  "orig_nbformat": 2,
  "kernelspec": {
   "name": "python382jvsc74a57bd02db524e06e9f5f4ffedc911c917cb75e12dbc923643829bf417064a77eb14d37",
   "display_name": "Python 3.8.2 64-bit"
  }
 },
 "nbformat": 4,
 "nbformat_minor": 2,
 "cells": [
  {
   "cell_type": "code",
   "execution_count": null,
   "metadata": {},
   "outputs": [],
   "source": [
    "# O primeiro passo é instalar a biblioteca de cryptography\n",
    "!pip install cryptography"
   ]
  },
  {
   "cell_type": "code",
   "execution_count": null,
   "metadata": {},
   "outputs": [],
   "source": [
    "# Aqui importamos a biblioteca do sistema operacional\n",
    "import os\n",
    "# E as partes da biblioteca cryptography que vamos utilizar\n",
    "from cryptography.hazmat.primitives.ciphers import Cipher, algorithms, modes"
   ]
  },
  {
   "cell_type": "code",
   "execution_count": null,
   "metadata": {},
   "outputs": [],
   "source": [
    "# Aqui utilizamos a função 'urandom' para gerar uma sequencia pseudo-aleatório de 32 bytes\n",
    "# Ou seja, 256 bits, que será a chave simétrica do nosso algoritmo.\n",
    "key = os.urandom(32)\n",
    "# Aqui geramos um vetor de inicialização de bytes aleatórios exigitos para o CBC (Cipher Block Chaining)\n",
    "# O vetor precisa ter o mesmo número de bytes que o tamanho de bloco utilizado no algoritmo (16 bytes nesse caso)\n",
    "iv = os.urandom(16)"
   ]
  },
  {
   "cell_type": "code",
   "execution_count": null,
   "metadata": {},
   "outputs": [],
   "source": [
    "# Com isso criamos o objeto que será encarregado pro criptografar/descriptografar as mensagens\n",
    "cipher = Cipher(algorithms.AES(key), modes.CBC(iv))\n",
    "encryptor = cipher.encryptor()\n",
    "# Criptografamos uma mensagen qualquer\n",
    "ct = encryptor.update(b\"A secret message\") + encryptor.finalize()\n",
    "'''\n",
    "    Importante!!!\n",
    "    Se você tentar escrever uma mensagem qualquer ai em cima não vai funcionar.\n",
    "    A mensagem precisar ser um múltiplo do tamanho do bloco, 16 neste caso, senão\n",
    "    o algoritmo vai reportar um erro\n",
    "'''"
   ]
  },
  {
   "source": [
    "# E no fim recuperamos a mensagem original\n",
    "decryptor = cipher.decryptor()\n",
    "decryptor.update(ct) + decryptor.finalize()"
   ],
   "cell_type": "code",
   "metadata": {},
   "execution_count": null,
   "outputs": []
  }
 ]
}