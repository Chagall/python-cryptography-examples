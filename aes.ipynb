{
 "metadata": {
  "language_info": {
   "codemirror_mode": {
    "name": "ipython",
    "version": 3
   },
   "file_extension": ".py",
   "mimetype": "text/x-python",
   "name": "python",
   "nbconvert_exporter": "python",
   "pygments_lexer": "ipython3",
   "version": "3.8.2"
  },
  "orig_nbformat": 2,
  "kernelspec": {
   "name": "python382jvsc74a57bd02db524e06e9f5f4ffedc911c917cb75e12dbc923643829bf417064a77eb14d37",
   "display_name": "Python 3.8.2 64-bit"
  }
 },
 "nbformat": 4,
 "nbformat_minor": 2,
 "cells": [
  {
   "cell_type": "code",
   "execution_count": null,
   "metadata": {},
   "outputs": [],
   "source": [
    "# O primeiro passo é instalar a biblioteca cryptography\n",
    "!pip install cryptography"
   ]
  },
  {
   "cell_type": "code",
   "execution_count": null,
   "metadata": {},
   "outputs": [],
   "source": [
    "# Aqui importamos a biblioteca do sistema operacional\n",
    "import os\n",
    "# E as partes da biblioteca cryptography que vamos utilizar\n",
    "from cryptography.hazmat.primitives.ciphers import Cipher, algorithms, modes\n",
    "from cryptography.hazmat.primitives import padding"
   ]
  },
  {
   "cell_type": "code",
   "execution_count": null,
   "metadata": {},
   "outputs": [],
   "source": [
    "# Aqui utilizamos a função 'urandom' para gerar uma sequencia pseudo-aleatório de 32 bytes\n",
    "# Ou seja, 256 bits, que será a chave simétrica do nosso algoritmo.\n",
    "key = os.urandom(32)\n",
    "# Aqui geramos um vetor de inicialização de bytes aleatórios exigitos para o CBC (Cipher Block Chaining)\n",
    "# O vetor precisa ter o mesmo número de bytes que o tamanho de bloco utilizado no algoritmo (16 bytes nesse caso)\n",
    "# Esse vetor deve mudar para cada mensagem criptografada\n",
    "iv = os.urandom(16)"
   ]
  },
  {
   "cell_type": "code",
   "execution_count": null,
   "metadata": {},
   "outputs": [],
   "source": [
    "# Escolhemos o algoritmo que será usado, neste caso o AES\n",
    "algorithm = algorithms.AES(key)\n",
    "\n",
    "# E o modo de operação do algoritmo. Aqui usamos CBC (Cipher Block Chaining) que é um modo \n",
    "# de operação para algoritmos de cifras de bloco (AES é um deles), pois é considerado criptograficamente seguro\n",
    "operation_mode = modes.CBC(iv)\n",
    "\n",
    "# Com isso criamos o objeto que será encarregado pro criptografar/descriptografar as mensagens\n",
    "cipher = Cipher(algorithm, operation_mode)\n",
    "encryptor = cipher.encryptor()\n",
    "# E criptografamos uma mensagen qualquer\n",
    "ct = encryptor.update(b\"A secret message\") + encryptor.finalize()"
   ]
  },
  {
   "source": [
    "# E no fim recuperamos a mensagem original\n",
    "decryptor = cipher.decryptor()\n",
    "print(decryptor.update(ct) + decryptor.finalize())"
   ],
   "cell_type": "code",
   "metadata": {},
   "execution_count": null,
   "outputs": []
  },
  {
   "cell_type": "code",
   "execution_count": null,
   "metadata": {},
   "outputs": [],
   "source": [
    "# Se você tentar mudar a mensagem acima para uma outra qualquer provavelmente não funcionar, mas por que?\n",
    "# Isso acontece  porque a mensagem precisar ter um tamanho múltiplo do tamanho do bloco usado pelo algoritmo \n",
    "# No caso do AES o bloco tem 16 bytes (ou 128 bits), como visto abaixo\n",
    "print(\"Tamanho do bloco em bits:\", algorithm.block_size)\n",
    "\n",
    "# Para contornar esse problema precisamos usar uma função de padding\n",
    "# A função de padding completa o espaço que está faltando para atingir o tamanho do bloco\n",
    "# O parametro '128' é o tamanho do bloco do AES\n",
    "padder = padding.PKCS7(128).padder()\n",
    "\n",
    "original_data = padder.update(b\"Agora essa mensagem pode ser de qualquer tamanho\")\n",
    "print(\"Mensagem original:\", original_data)\n",
    "\n",
    "padded_data = original_data + padder.finalize()\n",
    "print(\"Mensagem com padding:\", padded_data)"
   ]
  },
  {
   "cell_type": "code",
   "execution_count": null,
   "metadata": {},
   "outputs": [],
   "source": [
    "# Agora fazemos todo o processo novamente para criptografar a mensagem\n",
    "iv = os.urandom(16)\n",
    "\n",
    "algorithm = algorithms.AES(key)\n",
    "operation_mode = modes.CBC(iv)\n",
    "\n",
    "cipher = Cipher(algorithm, operation_mode)\n",
    "encryptor = cipher.encryptor()\n",
    "\n",
    "ct = encryptor.update(padded_data) + encryptor.finalize()\n",
    "\n",
    "# E no fim recuperamos a mensagem original\n",
    "decryptor = cipher.decryptor()\n",
    "message = decryptor.update(ct) + decryptor.finalize()\n",
    "\n",
    "# Note como ela ainda tem o padding\n",
    "print(\"Mesagem descriptografada:\", message)\n",
    "\n",
    "# Basta removermos o padding\n",
    "unpadder = padding.PKCS7(128).unpadder()\n",
    "message_no_padding = unpadder.update(message)\n",
    "\n",
    "print(\"Mesagem descriptografada e sem padding:\", message_no_padding)\n",
    "\n"
   ]
  }
 ]
}