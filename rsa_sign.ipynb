{
 "metadata": {
  "language_info": {
   "codemirror_mode": {
    "name": "ipython",
    "version": 3
   },
   "file_extension": ".py",
   "mimetype": "text/x-python",
   "name": "python",
   "nbconvert_exporter": "python",
   "pygments_lexer": "ipython3",
   "version": "3.8.2"
  },
  "orig_nbformat": 2,
  "kernelspec": {
   "name": "python382jvsc74a57bd031f2aee4e71d21fbe5cf8b01ff0e069b9275f58929596ceb00d14d90e3e16cd6",
   "display_name": "Python 3.8.2 64-bit"
  },
  "metadata": {
   "interpreter": {
    "hash": "31f2aee4e71d21fbe5cf8b01ff0e069b9275f58929596ceb00d14d90e3e16cd6"
   }
  }
 },
 "nbformat": 4,
 "nbformat_minor": 2,
 "cells": [
  {
   "cell_type": "code",
   "execution_count": 11,
   "metadata": {},
   "outputs": [
    {
     "output_type": "stream",
     "name": "stdout",
     "text": [
      "Defaulting to user installation because normal site-packages is not writeable\n",
      "Requirement already satisfied: cryptography in /Users/fabiopereira/Library/Python/3.8/lib/python/site-packages (3.4.7)\n",
      "Requirement already satisfied: cffi>=1.12 in /Users/fabiopereira/Library/Python/3.8/lib/python/site-packages (from cryptography) (1.14.5)\n",
      "Requirement already satisfied: pycparser in /Users/fabiopereira/Library/Python/3.8/lib/python/site-packages (from cffi>=1.12->cryptography) (2.20)\n"
     ]
    }
   ],
   "source": [
    "# O primeiro passo é instalar a biblioteca cryptography\n",
    "!pip3 install cryptography\n",
    "# E importar todos os componentes que precisaremos utilizar\n",
    "from cryptography.hazmat.primitives.asymmetric import rsa, padding\n",
    "from cryptography.hazmat.primitives import hashes"
   ]
  },
  {
   "cell_type": "code",
   "execution_count": 12,
   "metadata": {},
   "outputs": [],
   "source": [
    "# Aqui geramos a chave privada, ou seja, o par de números (n,d)\n",
    "# O 'public_exponent' deve ser mantido como 65537 por recomendação dos criadores da biblioteca\n",
    "# E o 'key_size' (tamanho da chave) pode ser qualquer número inteiro\n",
    "# Números menores que 1024 são considerados inseguros. 2048 e 4096 são tamanhos padrões aceitáveis\n",
    "private_key = rsa.generate_private_key(public_exponent=65537, key_size=2048)\n",
    "# Aqui geramos a chave pública a partir da chave privada, o par de números (n,e)\n",
    "public_key = private_key.public_key()"
   ]
  },
  {
   "cell_type": "code",
   "execution_count": 13,
   "metadata": {},
   "outputs": [],
   "source": [
    "message = b\"A message I want to sign\"\n",
    "\n",
    "# Valid paddings for signatures are PSS and PKCS1v15. PSS is the recommended choice for any new\n",
    "# protocols or applications, PKCS1v15 should only be used to support legacy protocols.\n",
    "signature = private_key.sign(\n",
    "    message,\n",
    "    padding.PSS(\n",
    "        mgf=padding.MGF1(hashes.SHA256()),\n",
    "        salt_length=padding.PSS.MAX_LENGTH\n",
    "    ),\n",
    "    hashes.SHA256()\n",
    ")"
   ]
  },
  {
   "cell_type": "code",
   "execution_count": 14,
   "metadata": {},
   "outputs": [],
   "source": [
    "expected_message = b\"A message I want to sign\"\n",
    "\n",
    "public_key.verify(\n",
    "    signature,\n",
    "    expected_message,\n",
    "    padding.PSS(\n",
    "        mgf=padding.MGF1(hashes.SHA256()),\n",
    "        salt_length=padding.PSS.MAX_LENGTH\n",
    "    ),\n",
    "    hashes.SHA256()\n",
    ")\n",
    "\n",
    "# Por padrão o verify não retorna nada, se não ocorrer nenhum erro é porque a mensagem realmente bateu\n",
    "# Se a mensagem não for compatível a função verify ira acusar uma exceção de InvalidSignature\n",
    "# Altere o valor de expected_message e veja como esse o erro ocorre"
   ]
  }
 ]
}