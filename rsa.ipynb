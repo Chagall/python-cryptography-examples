{
 "metadata": {
  "language_info": {
   "codemirror_mode": {
    "name": "ipython",
    "version": 3
   },
   "file_extension": ".py",
   "mimetype": "text/x-python",
   "name": "python",
   "nbconvert_exporter": "python",
   "pygments_lexer": "ipython3",
   "version": "3.8.2"
  },
  "orig_nbformat": 2,
  "kernelspec": {
   "name": "python382jvsc74a57bd05edc29c2ed010d6458d71a83433b383a96a8cbd3efe8531bc90c4b8a5b8bcec9",
   "display_name": "Python 3.8.2 64-bit"
  },
  "metadata": {
   "interpreter": {
    "hash": "5edc29c2ed010d6458d71a83433b383a96a8cbd3efe8531bc90c4b8a5b8bcec9"
   }
  }
 },
 "nbformat": 4,
 "nbformat_minor": 2,
 "cells": [
  {
   "cell_type": "code",
   "execution_count": null,
   "metadata": {},
   "outputs": [],
   "source": [
    "# O primeiro passo é instalar a biblioteca cryptography\n",
    "!pip3 install cryptography\n",
    "# E importar todos os componentes que precisaremos utilizar\n",
    "from cryptography.hazmat.primitives.asymmetric import rsa, padding\n",
    "from cryptography.hazmat.primitives import hashes"
   ]
  },
  {
   "cell_type": "code",
   "execution_count": null,
   "metadata": {},
   "outputs": [],
   "source": [
    "# Aqui geramos a chave privada, ou seja, o par de números (n,d)\n",
    "# O 'public_exponent' deve ser mantido como 65537 por recomendação dos criadores da biblioteca\n",
    "# E o 'key_size' (tamanho da chave) pode ser qualquer número inteiro\n",
    "# Números menores que 1024 são considerados inseguros. 2048 e 4096 são tamanhos padrões aceitáveis\n",
    "private_key = rsa.generate_private_key(public_exponent=65537, key_size=2048)\n",
    "# Aqui geramos a chave pública a partir da chave privada, o par de números (n,e)\n",
    "public_key = private_key.public_key()"
   ]
  },
  {
   "cell_type": "code",
   "execution_count": null,
   "metadata": {},
   "outputs": [],
   "source": [
    "# Agora que temos o par de chaves vamos simular o exemplo mostrado nos slides\n",
    "# Vamos supor que Bob gerou as chaves, e disponibilizou sua chave pública\n",
    "# Alice agora vai utilizar a chave pública de Bob para enviar uma mensagem para ele\n",
    "\n",
    "# Por motivos de segurança utilizamos alguns algoritmos adicionais OAEP e SHA256\n",
    "# Para dificultar alguns tipos de ataques criptográficos conhecidos\n",
    "original_alice_message = b\"Oi Bob, vamos ao cinema hoje? Ps: Alice\"\n",
    "\n",
    "# ciphertext é o texto criptografado\n",
    "ciphertext = public_key.encrypt(\n",
    "    original_alice_message,\n",
    "    padding.OAEP(\n",
    "        mgf=padding.MGF1(algorithm=hashes.SHA256()),\n",
    "        algorithm=hashes.SHA256(),\n",
    "        label=None\n",
    "    )\n",
    ")"
   ]
  },
  {
   "cell_type": "code",
   "execution_count": null,
   "metadata": {},
   "outputs": [],
   "source": [
    "# Agora Bob usa sua chave privada para obter a mensagem original de Alice\n",
    "received_alice_message = private_key.decrypt(\n",
    "    ciphertext,\n",
    "    padding.OAEP(\n",
    "        mgf=padding.MGF1(algorithm=hashes.SHA256()),\n",
    "        algorithm=hashes.SHA256(),\n",
    "        label=None\n",
    "    )\n",
    ")\n",
    "\n",
    "# Como podemos ver, a mensagem original é igual à mensagem descriptografada\n",
    "print(original_alice_message)\n",
    "print(received_alice_message)\n",
    "print(\"As duas mensagens são iguais?\", plaintext == message)"
   ]
  }
 ]
}