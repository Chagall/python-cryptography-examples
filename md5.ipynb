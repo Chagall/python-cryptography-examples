{
 "metadata": {
  "language_info": {
   "codemirror_mode": {
    "name": "ipython",
    "version": 3
   },
   "file_extension": ".py",
   "mimetype": "text/x-python",
   "name": "python",
   "nbconvert_exporter": "python",
   "pygments_lexer": "ipython3",
   "version": "3.8.2"
  },
  "orig_nbformat": 2,
  "kernelspec": {
   "name": "python382jvsc74a57bd02db524e06e9f5f4ffedc911c917cb75e12dbc923643829bf417064a77eb14d37",
   "display_name": "Python 3.8.2 64-bit"
  }
 },
 "nbformat": 4,
 "nbformat_minor": 2,
 "cells": [
  {
   "cell_type": "code",
   "execution_count": null,
   "metadata": {},
   "outputs": [],
   "source": [
    "# A hashlib é uma biblioteca que já vem instalada junto com o python \n",
    "# Ela os permite utilizar diversos algoritmos de hashing, sendo o md5 um deles \n",
    "# Então, antes de começar o exemplo, vamos importá-la\n",
    "import hashlib"
   ]
  },
  {
   "cell_type": "code",
   "execution_count": null,
   "metadata": {},
   "outputs": [],
   "source": [
    "# Aqui dizemos que vamos usar o algoritmo de hash md5\n",
    "md5 = hashlib.md5()\n",
    "\n",
    "# Para escolhermos a mensagem em cima da qual o hash vai ser feito\n",
    "# utilizamos a função update\n",
    "md5.update(b\"This is a md5 usage example\")"
   ]
  },
  {
   "cell_type": "code",
   "execution_count": null,
   "metadata": {},
   "outputs": [],
   "source": [
    "# ----------- Curiosidades -----------\n",
    "\n",
    "# É possível ver o tamanho, em bytes, do hash que será gerado pelo algoritmo\n",
    "print(\"Digest size:\", md5.digest_size, \"bytes\")\n",
    "# E também o tamanho do bloco interno que o algoritmo de hash utiliza\n",
    "print(\"Block size used by the algorithm:\", md5.block_size, \"bytes\")"
   ]
  },
  {
   "cell_type": "code",
   "execution_count": null,
   "metadata": {},
   "outputs": [],
   "source": [
    "# Por fim, aqui está o valor do hash aplicado à frase que passamos acima\n",
    "\n",
    "# Em bytes\n",
    "print(\"MD5 result as bytes:\", md5.digest())\n",
    "# Em hexadecimal\n",
    "print(\"MD5 result in hexa:\", md5.hexdigest())"
   ]
  }
 ]
}